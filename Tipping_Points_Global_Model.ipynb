{
 "cells": [
  {
   "cell_type": "code",
   "execution_count": 1,
   "metadata": {},
   "outputs": [
    {
     "data": {
      "text/plain": [
       "array([35.        , 34.62626263, 34.25252525, 33.87878788, 33.50505051,\n",
       "       33.13131313, 32.75757576, 32.38383838, 32.01010101, 31.63636364,\n",
       "       31.26262626, 30.88888889, 30.51515152, 30.14141414, 29.76767677,\n",
       "       29.39393939, 29.02020202, 28.64646465, 28.27272727, 27.8989899 ,\n",
       "       27.52525253, 27.15151515, 26.77777778, 26.4040404 , 26.03030303,\n",
       "       25.65656566, 25.28282828, 24.90909091, 24.53535354, 24.16161616,\n",
       "       23.78787879, 23.41414141, 23.04040404, 22.66666667, 22.29292929,\n",
       "       21.91919192, 21.54545455, 21.17171717, 20.7979798 , 20.42424242,\n",
       "       20.05050505, 19.67676768, 19.3030303 , 18.92929293, 18.55555556,\n",
       "       18.18181818, 17.80808081, 17.43434343, 17.06060606, 16.68686869,\n",
       "       16.31313131, 15.93939394, 15.56565657, 15.19191919, 14.81818182,\n",
       "       14.44444444, 14.07070707, 13.6969697 , 13.32323232, 12.94949495,\n",
       "       12.57575758, 12.2020202 , 11.82828283, 11.45454545, 11.08080808,\n",
       "       10.70707071, 10.33333333,  9.95959596,  9.58585859,  9.21212121,\n",
       "        8.83838384,  8.46464646,  8.09090909,  7.71717172,  7.34343434,\n",
       "        6.96969697,  6.5959596 ,  6.22222222,  5.84848485,  5.47474747,\n",
       "        5.1010101 ,  4.72727273,  4.35353535,  3.97979798,  3.60606061,\n",
       "        3.23232323,  2.85858586,  2.48484848,  2.11111111,  1.73737374,\n",
       "        1.36363636,  0.98989899,  0.61616162,  0.24242424, -0.13131313,\n",
       "       -0.50505051, -0.87878788, -1.25252525, -1.62626263, -2.        ])"
      ]
     },
     "execution_count": 1,
     "metadata": {},
     "output_type": "execute_result"
    }
   ],
   "source": [
    "import numpy as np\n",
    "\n",
    "Q = 343 # Current value of solar insolation\n",
    "ocean_albedo = 0.32 # Amount of radiation reflected by this surface\n",
    "ice_albedo = 0.62 # Amount of radiation reflected by this surface\n",
    "C = 3.04 # Constant traditionally chosen so that one of the equilibria fits the current climate with an ice line near the pole\n",
    "critical_temperature = -10 # Celsius value at which liquid water will freeze\n",
    "R = 12.6 # Heat capacity of the surface of the planet\n",
    "M = 25 # Steepness of the albedo function near the ice line\n",
    "epsilon = 0.01 # Constant to control rate of ice line movement\n",
    "\n",
    "# approximation of both the Stephan-Boltzman's law of black body radiation and the greenhouse gas effect on the atmosphere (A + BT)\n",
    "A = 202\n",
    "B = 1.9\n",
    "\n",
    "num_of_latitude_steps = 100\n",
    "initial_temperature_equator = 35 # Celsius\n",
    "initial_temperature_pole = -2 # Celsius\n",
    "initial_temperature_profile = np.linspace(initial_temperature_equator, initial_temperature_pole, num_of_latitude_steps)\n",
    "\n",
    "def diff_equ_budyko(eta, y, T, Q, ocean_albedo, ice_albedo, C, critical_temperature, R, M, epsilon):\n",
    "    \"\"\"Returns the result of the continuous differential equation referred to related to equation 2.5\"\"\"\n",
    "    s = legendre_latitude_distr(y)\n",
    "    albedo = ice_line_dependent_albedo(eta, y, ocean_albedo, ice_albedo, M)\n",
    "    return_value = (1 / R) * (Q * s * (1 - albedo) - (A + B * T) - C)\n",
    "\n",
    "def legendre_latitude_distr(y):\n",
    "    \"\"\"The function referred to as s(y) calculating the distribution of radiation based on latitude.\"\"\"\n",
    "    return 1 - (0.482 * (((3 * (y ** 2)) - 1) / 2))\n",
    "\n",
    "def ice_line_dependent_albedo(eta, y, ocean_albedo, ice_albedo, M):\n",
    "    \"\"\"Returns the albedo at location y.\"\"\"\n",
    "    return (ocean_albedo + ice_albedo) / 2 + ((ice_albedo - ocean_albedo) / 2) * np.tanh(M * (y - eta))"
   ]
  },
  {
   "cell_type": "markdown",
   "metadata": {},
   "source": []
  }
 ],
 "metadata": {
  "kernelspec": {
   "display_name": "Python 3",
   "language": "python",
   "name": "python3"
  },
  "language_info": {
   "codemirror_mode": {
    "name": "ipython",
    "version": 3
   },
   "file_extension": ".py",
   "mimetype": "text/x-python",
   "name": "python",
   "nbconvert_exporter": "python",
   "pygments_lexer": "ipython3",
   "version": "3.11.4"
  },
  "orig_nbformat": 4
 },
 "nbformat": 4,
 "nbformat_minor": 2
}
